{
 "cells": [
  {
   "cell_type": "code",
   "execution_count": 1,
   "metadata": {},
   "outputs": [],
   "source": [
    "import pandas as pd"
   ]
  },
  {
   "cell_type": "code",
   "execution_count": 3,
   "metadata": {},
   "outputs": [],
   "source": [
    "df = pd.read_excel('Sales-Superstore-Dataset.xlsx')"
   ]
  },
  {
   "cell_type": "code",
   "execution_count": 4,
   "metadata": {},
   "outputs": [
    {
     "name": "stdout",
     "output_type": "stream",
     "text": [
      "<class 'pandas.core.frame.DataFrame'>\n",
      "RangeIndex: 9994 entries, 0 to 9993\n",
      "Data columns (total 21 columns):\n",
      " #   Column             Non-Null Count  Dtype         \n",
      "---  ------             --------------  -----         \n",
      " 0   Category           9994 non-null   object        \n",
      " 1   City               9994 non-null   object        \n",
      " 2   Country            9994 non-null   object        \n",
      " 3   Customer Name      9994 non-null   object        \n",
      " 4   Manufacturer       9994 non-null   object        \n",
      " 5   Order Date         9994 non-null   datetime64[ns]\n",
      " 6   Order ID           9994 non-null   object        \n",
      " 7   Postal Code        9994 non-null   int64         \n",
      " 8   Product Name       9994 non-null   object        \n",
      " 9   Region             9994 non-null   object        \n",
      " 10  Segment            9994 non-null   object        \n",
      " 11  Ship Date          9994 non-null   datetime64[ns]\n",
      " 12  Ship Mode          9994 non-null   object        \n",
      " 13  State              9994 non-null   object        \n",
      " 14  Sub-Category       9994 non-null   object        \n",
      " 15  Discount           9994 non-null   float64       \n",
      " 16  Number of Records  9994 non-null   int64         \n",
      " 17  Profit             9994 non-null   int64         \n",
      " 18  Profit Ratio       9994 non-null   float64       \n",
      " 19  Quantity           9994 non-null   int64         \n",
      " 20  Sales              9994 non-null   int64         \n",
      "dtypes: datetime64[ns](2), float64(2), int64(5), object(12)\n",
      "memory usage: 1.6+ MB\n"
     ]
    }
   ],
   "source": [
    "df.info()"
   ]
  },
  {
   "cell_type": "code",
   "execution_count": 5,
   "metadata": {},
   "outputs": [
    {
     "data": {
      "text/plain": [
       "1"
      ]
     },
     "execution_count": 5,
     "metadata": {},
     "output_type": "execute_result"
    }
   ],
   "source": [
    "df.duplicated().sum()"
   ]
  },
  {
   "cell_type": "code",
   "execution_count": 7,
   "metadata": {},
   "outputs": [
    {
     "data": {
      "text/html": [
       "<div>\n",
       "<style scoped>\n",
       "    .dataframe tbody tr th:only-of-type {\n",
       "        vertical-align: middle;\n",
       "    }\n",
       "\n",
       "    .dataframe tbody tr th {\n",
       "        vertical-align: top;\n",
       "    }\n",
       "\n",
       "    .dataframe thead th {\n",
       "        text-align: right;\n",
       "    }\n",
       "</style>\n",
       "<table border=\"1\" class=\"dataframe\">\n",
       "  <thead>\n",
       "    <tr style=\"text-align: right;\">\n",
       "      <th></th>\n",
       "      <th>Category</th>\n",
       "      <th>City</th>\n",
       "      <th>Country</th>\n",
       "      <th>Customer Name</th>\n",
       "      <th>Manufacturer</th>\n",
       "      <th>Order Date</th>\n",
       "      <th>Order ID</th>\n",
       "      <th>Postal Code</th>\n",
       "      <th>Product Name</th>\n",
       "      <th>Region</th>\n",
       "      <th>...</th>\n",
       "      <th>Ship Date</th>\n",
       "      <th>Ship Mode</th>\n",
       "      <th>State</th>\n",
       "      <th>Sub-Category</th>\n",
       "      <th>Discount</th>\n",
       "      <th>Number of Records</th>\n",
       "      <th>Profit</th>\n",
       "      <th>Profit Ratio</th>\n",
       "      <th>Quantity</th>\n",
       "      <th>Sales</th>\n",
       "    </tr>\n",
       "  </thead>\n",
       "  <tbody>\n",
       "    <tr>\n",
       "      <th>385</th>\n",
       "      <td>Furniture</td>\n",
       "      <td>Columbus</td>\n",
       "      <td>United States</td>\n",
       "      <td>Laurel Beltran</td>\n",
       "      <td>Global</td>\n",
       "      <td>2011-04-23</td>\n",
       "      <td>US-2011-150119</td>\n",
       "      <td>43229</td>\n",
       "      <td>Global Leather Highback Executive Chair with P...</td>\n",
       "      <td>East</td>\n",
       "      <td>...</td>\n",
       "      <td>2011-04-27</td>\n",
       "      <td>Standard Class</td>\n",
       "      <td>Ohio</td>\n",
       "      <td>Chairs</td>\n",
       "      <td>0.3</td>\n",
       "      <td>1</td>\n",
       "      <td>-12</td>\n",
       "      <td>-0.04</td>\n",
       "      <td>2</td>\n",
       "      <td>281</td>\n",
       "    </tr>\n",
       "    <tr>\n",
       "      <th>386</th>\n",
       "      <td>Furniture</td>\n",
       "      <td>Columbus</td>\n",
       "      <td>United States</td>\n",
       "      <td>Laurel Beltran</td>\n",
       "      <td>Global</td>\n",
       "      <td>2011-04-23</td>\n",
       "      <td>US-2011-150119</td>\n",
       "      <td>43229</td>\n",
       "      <td>Global Leather Highback Executive Chair with P...</td>\n",
       "      <td>East</td>\n",
       "      <td>...</td>\n",
       "      <td>2011-04-27</td>\n",
       "      <td>Standard Class</td>\n",
       "      <td>Ohio</td>\n",
       "      <td>Chairs</td>\n",
       "      <td>0.3</td>\n",
       "      <td>1</td>\n",
       "      <td>-12</td>\n",
       "      <td>-0.04</td>\n",
       "      <td>2</td>\n",
       "      <td>281</td>\n",
       "    </tr>\n",
       "  </tbody>\n",
       "</table>\n",
       "<p>2 rows × 21 columns</p>\n",
       "</div>"
      ],
      "text/plain": [
       "      Category      City        Country   Customer Name Manufacturer  \\\n",
       "385  Furniture  Columbus  United States  Laurel Beltran       Global   \n",
       "386  Furniture  Columbus  United States  Laurel Beltran       Global   \n",
       "\n",
       "    Order Date        Order ID  Postal Code  \\\n",
       "385 2011-04-23  US-2011-150119        43229   \n",
       "386 2011-04-23  US-2011-150119        43229   \n",
       "\n",
       "                                          Product Name Region  ...  Ship Date  \\\n",
       "385  Global Leather Highback Executive Chair with P...   East  ... 2011-04-27   \n",
       "386  Global Leather Highback Executive Chair with P...   East  ... 2011-04-27   \n",
       "\n",
       "          Ship Mode State Sub-Category Discount  Number of Records  Profit  \\\n",
       "385  Standard Class  Ohio       Chairs      0.3                  1     -12   \n",
       "386  Standard Class  Ohio       Chairs      0.3                  1     -12   \n",
       "\n",
       "     Profit Ratio  Quantity  Sales  \n",
       "385         -0.04         2    281  \n",
       "386         -0.04         2    281  \n",
       "\n",
       "[2 rows x 21 columns]"
      ]
     },
     "execution_count": 7,
     "metadata": {},
     "output_type": "execute_result"
    }
   ],
   "source": [
    "df[df.duplicated(keep=False)]"
   ]
  },
  {
   "cell_type": "code",
   "execution_count": 8,
   "metadata": {},
   "outputs": [],
   "source": [
    "df.drop_duplicates(inplace=True)"
   ]
  },
  {
   "cell_type": "code",
   "execution_count": 9,
   "metadata": {},
   "outputs": [
    {
     "data": {
      "text/html": [
       "<div>\n",
       "<style scoped>\n",
       "    .dataframe tbody tr th:only-of-type {\n",
       "        vertical-align: middle;\n",
       "    }\n",
       "\n",
       "    .dataframe tbody tr th {\n",
       "        vertical-align: top;\n",
       "    }\n",
       "\n",
       "    .dataframe thead th {\n",
       "        text-align: right;\n",
       "    }\n",
       "</style>\n",
       "<table border=\"1\" class=\"dataframe\">\n",
       "  <thead>\n",
       "    <tr style=\"text-align: right;\">\n",
       "      <th></th>\n",
       "      <th>Postal Code</th>\n",
       "      <th>Discount</th>\n",
       "      <th>Number of Records</th>\n",
       "      <th>Profit</th>\n",
       "      <th>Profit Ratio</th>\n",
       "      <th>Quantity</th>\n",
       "      <th>Sales</th>\n",
       "    </tr>\n",
       "  </thead>\n",
       "  <tbody>\n",
       "    <tr>\n",
       "      <th>count</th>\n",
       "      <td>9993.000000</td>\n",
       "      <td>9993.000000</td>\n",
       "      <td>9993.0</td>\n",
       "      <td>9993.000000</td>\n",
       "      <td>9993.000000</td>\n",
       "      <td>9993.000000</td>\n",
       "      <td>9993.000000</td>\n",
       "    </tr>\n",
       "    <tr>\n",
       "      <th>mean</th>\n",
       "      <td>55191.576403</td>\n",
       "      <td>0.156188</td>\n",
       "      <td>1.0</td>\n",
       "      <td>28.655959</td>\n",
       "      <td>0.120548</td>\n",
       "      <td>3.789753</td>\n",
       "      <td>229.868208</td>\n",
       "    </tr>\n",
       "    <tr>\n",
       "      <th>std</th>\n",
       "      <td>32065.074478</td>\n",
       "      <td>0.206457</td>\n",
       "      <td>0.0</td>\n",
       "      <td>234.267081</td>\n",
       "      <td>0.466944</td>\n",
       "      <td>2.225149</td>\n",
       "      <td>623.279922</td>\n",
       "    </tr>\n",
       "    <tr>\n",
       "      <th>min</th>\n",
       "      <td>1040.000000</td>\n",
       "      <td>0.000000</td>\n",
       "      <td>1.0</td>\n",
       "      <td>-6600.000000</td>\n",
       "      <td>-2.750000</td>\n",
       "      <td>1.000000</td>\n",
       "      <td>0.000000</td>\n",
       "    </tr>\n",
       "    <tr>\n",
       "      <th>25%</th>\n",
       "      <td>23223.000000</td>\n",
       "      <td>0.000000</td>\n",
       "      <td>1.0</td>\n",
       "      <td>2.000000</td>\n",
       "      <td>0.070000</td>\n",
       "      <td>2.000000</td>\n",
       "      <td>17.000000</td>\n",
       "    </tr>\n",
       "    <tr>\n",
       "      <th>50%</th>\n",
       "      <td>56560.000000</td>\n",
       "      <td>0.200000</td>\n",
       "      <td>1.0</td>\n",
       "      <td>9.000000</td>\n",
       "      <td>0.270000</td>\n",
       "      <td>3.000000</td>\n",
       "      <td>54.000000</td>\n",
       "    </tr>\n",
       "    <tr>\n",
       "      <th>75%</th>\n",
       "      <td>90008.000000</td>\n",
       "      <td>0.200000</td>\n",
       "      <td>1.0</td>\n",
       "      <td>29.000000</td>\n",
       "      <td>0.360000</td>\n",
       "      <td>5.000000</td>\n",
       "      <td>210.000000</td>\n",
       "    </tr>\n",
       "    <tr>\n",
       "      <th>max</th>\n",
       "      <td>99301.000000</td>\n",
       "      <td>0.800000</td>\n",
       "      <td>1.0</td>\n",
       "      <td>8400.000000</td>\n",
       "      <td>0.500000</td>\n",
       "      <td>14.000000</td>\n",
       "      <td>22638.000000</td>\n",
       "    </tr>\n",
       "  </tbody>\n",
       "</table>\n",
       "</div>"
      ],
      "text/plain": [
       "        Postal Code     Discount  Number of Records       Profit  \\\n",
       "count   9993.000000  9993.000000             9993.0  9993.000000   \n",
       "mean   55191.576403     0.156188                1.0    28.655959   \n",
       "std    32065.074478     0.206457                0.0   234.267081   \n",
       "min     1040.000000     0.000000                1.0 -6600.000000   \n",
       "25%    23223.000000     0.000000                1.0     2.000000   \n",
       "50%    56560.000000     0.200000                1.0     9.000000   \n",
       "75%    90008.000000     0.200000                1.0    29.000000   \n",
       "max    99301.000000     0.800000                1.0  8400.000000   \n",
       "\n",
       "       Profit Ratio     Quantity         Sales  \n",
       "count   9993.000000  9993.000000   9993.000000  \n",
       "mean       0.120548     3.789753    229.868208  \n",
       "std        0.466944     2.225149    623.279922  \n",
       "min       -2.750000     1.000000      0.000000  \n",
       "25%        0.070000     2.000000     17.000000  \n",
       "50%        0.270000     3.000000     54.000000  \n",
       "75%        0.360000     5.000000    210.000000  \n",
       "max        0.500000    14.000000  22638.000000  "
      ]
     },
     "execution_count": 9,
     "metadata": {},
     "output_type": "execute_result"
    }
   ],
   "source": [
    "df.describe()"
   ]
  },
  {
   "cell_type": "code",
   "execution_count": 5,
   "metadata": {},
   "outputs": [
    {
     "data": {
      "text/plain": [
       "Category             0\n",
       "City                 0\n",
       "Country              0\n",
       "Customer Name        0\n",
       "Manufacturer         0\n",
       "Order Date           0\n",
       "Order ID             0\n",
       "Postal Code          0\n",
       "Product Name         0\n",
       "Region               0\n",
       "Segment              0\n",
       "Ship Date            0\n",
       "Ship Mode            0\n",
       "State                0\n",
       "Sub-Category         0\n",
       "Discount             0\n",
       "Number of Records    0\n",
       "Profit               0\n",
       "Profit Ratio         0\n",
       "Quantity             0\n",
       "Sales                0\n",
       "dtype: int64"
      ]
     },
     "execution_count": 5,
     "metadata": {},
     "output_type": "execute_result"
    }
   ],
   "source": [
    "df.isnull().sum()"
   ]
  },
  {
   "cell_type": "code",
   "execution_count": 12,
   "metadata": {},
   "outputs": [],
   "source": [
    "df.to_excel(\"Sales_Superstore_fixed.xlsx\")"
   ]
  }
 ],
 "metadata": {
  "kernelspec": {
   "display_name": "Python 3.9.7 ('base')",
   "language": "python",
   "name": "python3"
  },
  "language_info": {
   "codemirror_mode": {
    "name": "ipython",
    "version": 3
   },
   "file_extension": ".py",
   "mimetype": "text/x-python",
   "name": "python",
   "nbconvert_exporter": "python",
   "pygments_lexer": "ipython3",
   "version": "3.9.7 (default, Sep 16 2021, 16:59:28) [MSC v.1916 64 bit (AMD64)]"
  },
  "orig_nbformat": 4,
  "vscode": {
   "interpreter": {
    "hash": "fd4b08c000e2fb57376b32ea0ad8f6c98fb433e97a7da87f6e679f6ff06b0fbc"
   }
  }
 },
 "nbformat": 4,
 "nbformat_minor": 2
}
